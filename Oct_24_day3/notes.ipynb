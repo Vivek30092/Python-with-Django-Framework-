{
 "cells": [
  {
   "cell_type": "markdown",
   "id": "17a97edf",
   "metadata": {},
   "source": [
    "> ## Class\n",
    "<pre>\n",
    "class consists two parts : header part and body part, \n",
    "in a header part we will give the class name and it's base class name \n",
    "in body part, it consists member functions (they are may be methods, constructor, inner class) </pre>"
   ]
  },
  {
   "cell_type": "markdown",
   "id": "d7f5e18a",
   "metadata": {},
   "source": [
    "> ## Object\n",
    "<pre>physical existence of a class is nothing but object. We can create any number of objects for a class.</pre>\n",
    "syntex: `referencevariable = classname()`\n",
    "<pre>ex: s = Student()</pre>\n"
   ]
  },
  {
   "cell_type": "code",
   "execution_count": 1,
   "id": "80a510b3",
   "metadata": {},
   "outputs": [
    {
     "name": "stdout",
     "output_type": "stream",
     "text": [
      "hello my name is : vivek\n"
     ]
    }
   ],
   "source": [
    "class Student:\n",
    "    def talk(self):\n",
    "        print(\"hello my name is : vivek\")\n",
    "        \n",
    "s1 = Student()      # creating object of student class\n",
    "s1.talk()           # by the help of object calling talk method"
   ]
  },
  {
   "cell_type": "markdown",
   "id": "bca6ad3f",
   "metadata": {},
   "source": [
    "* `self` is the default variable which is always pointing to current object (like this keyword in Java)\n",
    "* by using self we can access instance variables and instance methods of object.\n",
    "* `Constructor` : Constructor is used to construct memory of object and that memory is called `instance` and object points to this `instance`.\n",
    "* self should be first parameter inside constructor. ex : def __init__(self):\n",
    "* self should be first parameter inside `instance methods`. ex : def talk(self):\n",
    "* `instance method` : function defined inside class which can't be accessed without object."
   ]
  }
 ],
 "metadata": {
  "kernelspec": {
   "display_name": "Python 3",
   "language": "python",
   "name": "python3"
  },
  "language_info": {
   "codemirror_mode": {
    "name": "ipython",
    "version": 3
   },
   "file_extension": ".py",
   "mimetype": "text/x-python",
   "name": "python",
   "nbconvert_exporter": "python",
   "pygments_lexer": "ipython3",
   "version": "3.13.2"
  }
 },
 "nbformat": 4,
 "nbformat_minor": 5
}
