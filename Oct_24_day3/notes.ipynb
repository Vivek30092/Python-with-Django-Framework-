{
 "cells": [
  {
   "cell_type": "markdown",
   "id": "17a97edf",
   "metadata": {},
   "source": [
    "> ## Class\n",
    "<pre>\n",
    "class consists two parts : header part and body part, \n",
    "in a header part we will give the class name and it's base class name \n",
    "in body part, it consists member functions (they are may be methods, constructor, inner class) </pre>"
   ]
  },
  {
   "cell_type": "markdown",
   "id": "d7f5e18a",
   "metadata": {},
   "source": [
    "> ## Object\n",
    "<pre>physical existence of a class is nothing but object. We can create any number of objects for a class.</pre>\n",
    "syntex: `referencevariable = classname()`\n",
    "<pre>ex: s = Student()</pre>\n"
   ]
  },
  {
   "cell_type": "code",
   "execution_count": 1,
   "id": "80a510b3",
   "metadata": {},
   "outputs": [
    {
     "name": "stdout",
     "output_type": "stream",
     "text": [
      "hello my name is : vivek\n"
     ]
    }
   ],
   "source": [
    "class Student:\n",
    "    def talk(self):\n",
    "        print(\"hello my name is : vivek\")\n",
    "        \n",
    "s1 = Student()      # creating object of student class\n",
    "s1.talk()           # by the help of object calling talk method"
   ]
  },
  {
   "cell_type": "markdown",
   "id": "bca6ad3f",
   "metadata": {},
   "source": [
    "* `self` is the default variable which is always pointing to current object (like this keyword in Java)\n",
    "* by using self we can access instance variables and instance methods of object.\n",
    "* `Constructor` : Constructor is used to construct memory of object and that memory is called `instance` and object points to this `instance`.\n",
    "* self should be first parameter inside constructor. ex : def __init__(self):\n",
    "* self should be first parameter inside `instance methods`. ex : def talk(self):\n",
    "* `instance method` : function defined inside class which can't be accessed without object."
   ]
  },
  {
   "cell_type": "markdown",
   "id": "24abd612",
   "metadata": {},
   "source": [
    "* within the python class we can represent data by using variables\n",
    "there are thee types of variables are allowed.<br>\n",
    "__instance variable__(object level variables)<br>\n",
    "__static Variables__(class level variables)<br>\n",
    "__Local variables__(methods level variables)<br>"
   ]
  },
  {
   "cell_type": "code",
   "execution_count": 5,
   "id": "9bca5244",
   "metadata": {},
   "outputs": [
    {
     "name": "stdout",
     "output_type": "stream",
     "text": [
      "student Name =  vivek\n",
      "Student rollNo =  27\n",
      "Student mobNO =  7828659551\n",
      "student Name =  dvc\n",
      "Student rollNo =  52\n",
      "Student mobNO =  97527335264\n",
      "student Name =  xyz\n",
      "Student rollNo =  14\n",
      "Student mobNO =  45825498458\n"
     ]
    }
   ],
   "source": [
    "class Student1:\n",
    "    def __init__(self,sname,rollno,mob):            #__init__ is a constructor and by using self we are creating variable in objects\n",
    "        self.sname = sname           # here sname with self is new variable in the memory of d1 and so on\n",
    "        self.rollno = rollno         # here rollno with self is new variable in the memory of d1 and then for d2 and so on\n",
    "        self.mob = mob \n",
    "        \n",
    "    def show(self):\n",
    "        print(\"student Name = \",self.sname)\n",
    "        print(\"Student rollNo = \",self.rollno)\n",
    "        print(\"Student mobNO = \",self.mob)\n",
    "        \n",
    "        \n",
    "s1 = Student1(\"vivek\",27,7828659551)\n",
    "s2 = Student1(\"dvc\",52,97527335264)\n",
    "s3 = Student1(\"xyz\",14,45825498458)\n",
    "\n",
    "s1.show()\n",
    "s2.show()\n",
    "s3.show()\n"
   ]
  },
  {
   "cell_type": "markdown",
   "id": "3128a53f",
   "metadata": {},
   "source": [
    "\n",
    "name,id,emp_post,location"
   ]
  },
  {
   "cell_type": "code",
   "execution_count": 13,
   "id": "bdfff5d1",
   "metadata": {},
   "outputs": [
    {
     "name": "stdout",
     "output_type": "stream",
     "text": [
      "employee Name:  vivek\n",
      "employee ID:  27\n",
      "employee Post:  Manager\n",
      "employee Location:  Indore\n",
      "employee Name:  dvc\n",
      "employee ID:  25\n",
      "employee Post:  HR\n",
      "employee Location:  Delhi\n",
      "employee Name:  abc\n",
      "employee ID:  17\n",
      "employee Post:  accountant\n",
      "employee Location:  Noida\n"
     ]
    },
    {
     "ename": "AttributeError",
     "evalue": "'emp' object has no attribute 'empName'",
     "output_type": "error",
     "traceback": [
      "\u001b[31m---------------------------------------------------------------------------\u001b[39m",
      "\u001b[31mAttributeError\u001b[39m                            Traceback (most recent call last)",
      "\u001b[36mCell\u001b[39m\u001b[36m \u001b[39m\u001b[32mIn[13]\u001b[39m\u001b[32m, line 24\u001b[39m\n\u001b[32m     22\u001b[39m e2.show()\n\u001b[32m     23\u001b[39m e3.show()\n\u001b[32m---> \u001b[39m\u001b[32m24\u001b[39m \u001b[43me4\u001b[49m\u001b[43m.\u001b[49m\u001b[43mshow\u001b[49m\u001b[43m(\u001b[49m\u001b[43m)\u001b[49m\n",
      "\u001b[36mCell\u001b[39m\u001b[36m \u001b[39m\u001b[32mIn[13]\u001b[39m\u001b[32m, line 9\u001b[39m, in \u001b[36memp.show\u001b[39m\u001b[34m(self)\u001b[39m\n\u001b[32m      8\u001b[39m \u001b[38;5;28;01mdef\u001b[39;00m\u001b[38;5;250m \u001b[39m\u001b[34mshow\u001b[39m(\u001b[38;5;28mself\u001b[39m):\n\u001b[32m----> \u001b[39m\u001b[32m9\u001b[39m     \u001b[38;5;28mprint\u001b[39m(\u001b[33m\"\u001b[39m\u001b[33memployee Name: \u001b[39m\u001b[33m\"\u001b[39m,\u001b[38;5;28;43mself\u001b[39;49m\u001b[43m.\u001b[49m\u001b[43mempName\u001b[49m)\n\u001b[32m     10\u001b[39m     \u001b[38;5;28mprint\u001b[39m(\u001b[33m\"\u001b[39m\u001b[33memployee ID: \u001b[39m\u001b[33m\"\u001b[39m,\u001b[38;5;28mself\u001b[39m.empId)\n\u001b[32m     11\u001b[39m     \u001b[38;5;28mprint\u001b[39m(\u001b[33m\"\u001b[39m\u001b[33memployee Post: \u001b[39m\u001b[33m\"\u001b[39m,\u001b[38;5;28mself\u001b[39m.empPost)\n",
      "\u001b[31mAttributeError\u001b[39m: 'emp' object has no attribute 'empName'"
     ]
    }
   ],
   "source": [
    "class emp:\n",
    "    def __init__(self,empName,empId,empPost,empLoc):\n",
    "        self.empName = empName\n",
    "        self.empId = empId\n",
    "        self.empPost = empPost\n",
    "        self.empLoc = empLoc\n",
    "        \n",
    "    def show(self):\n",
    "        print(\"employee Name: \",self.empName)\n",
    "        print(\"employee ID: \",self.empId)\n",
    "        print(\"employee Post: \",self.empPost)\n",
    "        print(\"employee Location: \",self.empLoc)\n",
    "\n",
    "e1 = emp(\"vivek\",27,\"Manager\",\"Indore\")\n",
    "e2 = emp(\"dvc\",25,\"HR\",\"Delhi\")\n",
    "e3 = emp(\"abc\",17,\"accountant\",\"Noida\")\n",
    "e4 = emp(\"xyz\",7,\"consultant\",\"Spain\")\n",
    "\n",
    "del e4.empName\n",
    "\n",
    "e1.show()\n",
    "e2.show()\n",
    "e3.show()\n",
    "e4.show()\n",
    "\n"
   ]
  },
  {
   "cell_type": "markdown",
   "id": "3c8ba3d9",
   "metadata": {},
   "source": [
    "How to delete instance variable from the object:\n",
    "1. within a class we can delete instance variable as follows , del self,variableName\n",
    "2. from outside of class we can delete instance variables as follows , del ojbectrefernce.variableName"
   ]
  },
  {
   "cell_type": "code",
   "execution_count": 18,
   "id": "472bb691",
   "metadata": {},
   "outputs": [
    {
     "name": "stdout",
     "output_type": "stream",
     "text": [
      "outer class object creation\n",
      "inner class object creation\n",
      "inner class method\n",
      "sub inner class object creation\n",
      "subInner class method\n"
     ]
    }
   ],
   "source": [
    "class Outer:\n",
    "    def __init__(self):\n",
    "        print(\"outer class object creation\")\n",
    "    class Inner:\n",
    "        def __init__(self):\n",
    "            print(\"inner class object creation\")\n",
    "        def m1(self):\n",
    "            print(\"inner class method\")\n",
    "        class subInner:\n",
    "                def __init__(self):\n",
    "                    print(\"sub inner class object creation\")\n",
    "                def m2(self):\n",
    "                    print(\"subInner class method\")    \n",
    "                \n",
    "            \n",
    "ob = Outer()\n",
    "i = ob.Inner()\n",
    "i.m1()\n",
    "\n",
    "j = i.subInner()\n",
    "j.m2()\n"
   ]
  },
  {
   "cell_type": "code",
   "execution_count": 19,
   "id": "5cf3e509",
   "metadata": {},
   "outputs": [
    {
     "name": "stdout",
     "output_type": "stream",
     "text": [
      "Constructor execution...\n",
      "Constructor execution...\n",
      "Constructor execution...\n",
      "Destructor Execution...\n",
      "Destructor Execution...\n",
      "Destructor Execution...\n",
      "end of application\n"
     ]
    }
   ],
   "source": [
    "import time\n",
    "class Test:\n",
    "    def __init__(self):\n",
    "        print(\"Constructor execution...\")\n",
    "        \n",
    "    def __del__(self):\n",
    "        print(\"Destructor Execution...\")\n",
    "        \n",
    "list = [Test(),Test(),Test()]\n",
    "del list\n",
    "time.sleep(5)\n",
    "print(\"end of application\")"
   ]
  },
  {
   "cell_type": "code",
   "execution_count": 26,
   "id": "0dfe7163",
   "metadata": {},
   "outputs": [
    {
     "name": "stdout",
     "output_type": "stream",
     "text": [
      "Value of vivek is value of None is value of None is\n"
     ]
    },
    {
     "data": {
      "text/plain": [
       "<__main__.Demo at 0x2b9bb124980>"
      ]
     },
     "execution_count": 26,
     "metadata": {},
     "output_type": "execute_result"
    }
   ],
   "source": [
    "class Demo:\n",
    "    def __init__(self,a=\"vivek\",b=None,c=None):\n",
    "        print(\"Value of {} is value of {} is value of {} is\".format(a,b,c))\n",
    "        \n",
    "        \n",
    "Demo()\n",
    "# obj = Demo()\n",
    "# print(obj.__init__)"
   ]
  },
  {
   "cell_type": "code",
   "execution_count": 28,
   "id": "8c68fd5c",
   "metadata": {},
   "outputs": [
    {
     "name": "stdout",
     "output_type": "stream",
     "text": [
      "Sum = 0\n",
      "Sum = 10\n",
      "Sum = 30\n",
      "Sum = 60\n",
      "Sum = 100\n",
      "Sum = 150\n"
     ]
    }
   ],
   "source": [
    "class Test:\n",
    "    def __init__(self,*a):\n",
    "        sm = 0\n",
    "        for i in a :\n",
    "            sm = sm+i\n",
    "        print(\"Sum =\",sm)\n",
    "        \n",
    "t1 = Test()\n",
    "t2 = Test(10)\n",
    "t3 = Test(10,20)\n",
    "t4 = Test(10,20,30)\n",
    "t5 = Test(10,20,30,40)\n",
    "t6 = Test(10,20,30,40,50)"
   ]
  },
  {
   "cell_type": "markdown",
   "id": "aa53738b",
   "metadata": {},
   "source": [
    "> ## Garbage Collection\n",
    "* in py we have some assistant which is always running in the background to destroy useless objects. Because this assistant the chance of failing python program with memory problems is very less. This assistant is nothing but garbage collection\n",
    "* hence the main objective of garbage collector is to destroy useless objects.\n",
    "* it's low priority thread which run time to time"
   ]
  },
  {
   "cell_type": "markdown",
   "id": "b4fd60a8",
   "metadata": {},
   "source": [
    "> ### Destructor\n",
    "* it's a special method and the name should be __del__\n",
    "* just before destroying an object garbage collector clean up activities(Resource deallocation activities like close database collection etc). once destructor execution completed then garbage collector automatically destroys that object."
   ]
  },
  {
   "cell_type": "markdown",
   "id": "f0320c20",
   "metadata": {},
   "source": [
    "> ### Regular Expression to represent all 10 digit mobile numbers\n",
    "for first digit should be 7 or 8 or 9\n",
    "* [7-9][0-9]{9}\n",
    "* [7-9]\\{9}\n",
    "* [7-9][0-9][0-9][0-9][0-9][0-9][0-9][0-9][0-9][0-9]"
   ]
  },
  {
   "cell_type": "code",
   "execution_count": 36,
   "id": "9eb1ea26",
   "metadata": {},
   "outputs": [
    {
     "name": "stdout",
     "output_type": "stream",
     "text": [
      "invalid number\n"
     ]
    }
   ],
   "source": [
    "import re\n",
    "n = input(\"enter your number: \")\n",
    "m = re.match(\"[7-9][0-9]{9}\",n)\n",
    "if m!=None:\n",
    "    print(\"valid number\")\n",
    "else :\n",
    "    print(\"invalid number\")"
   ]
  },
  {
   "cell_type": "code",
   "execution_count": 39,
   "id": "b659e5db",
   "metadata": {},
   "outputs": [
    {
     "name": "stdout",
     "output_type": "stream",
     "text": [
      "valid Mail id\n"
     ]
    }
   ],
   "source": [
    "# for email ID\n",
    "import re\n",
    "s = input(\"enter mail id: \")\n",
    "m = re.match(\"\\w[a-zA-Z0-9_.]*@gmail[.]com\",s)\n",
    "if m!=None:\n",
    "    print(\"valid Mail id\")\n",
    "else:\n",
    "    print(\"invalid mail\")"
   ]
  },
  {
   "cell_type": "code",
   "execution_count": 41,
   "id": "62ab7272",
   "metadata": {},
   "outputs": [
    {
     "name": "stdout",
     "output_type": "stream",
     "text": [
      "Valid Vehicle Registration Number\n"
     ]
    }
   ],
   "source": [
    "s = input(\"Enter Vehicle Registration number: \")\n",
    "m = re.match(\"MP[012][0-9][A-Z]{2}\\d{4}\",s)\n",
    "if m!=None:\n",
    "    print(\"Valid Vehicle Registration Number\")\n",
    "else:\n",
    "    print(\"Invalid Vehicle Registration Number\")"
   ]
  }
 ],
 "metadata": {
  "kernelspec": {
   "display_name": "Python 3",
   "language": "python",
   "name": "python3"
  },
  "language_info": {
   "codemirror_mode": {
    "name": "ipython",
    "version": 3
   },
   "file_extension": ".py",
   "mimetype": "text/x-python",
   "name": "python",
   "nbconvert_exporter": "python",
   "pygments_lexer": "ipython3",
   "version": "3.13.2"
  }
 },
 "nbformat": 4,
 "nbformat_minor": 5
}
