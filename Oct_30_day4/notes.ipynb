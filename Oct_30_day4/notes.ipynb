{
 "cells": [
  {
   "cell_type": "code",
   "execution_count": null,
   "id": "edb5c5b6",
   "metadata": {},
   "outputs": [
    {
     "ename": "AttributeError",
     "evalue": "'list' object has no attribute 'difference'",
     "output_type": "error",
     "traceback": [
      "\u001b[31m---------------------------------------------------------------------------\u001b[39m",
      "\u001b[31mAttributeError\u001b[39m                            Traceback (most recent call last)",
      "\u001b[36mCell\u001b[39m\u001b[36m \u001b[39m\u001b[32mIn[1]\u001b[39m\u001b[32m, line 3\u001b[39m\n\u001b[32m      1\u001b[39m x = [\u001b[33m\"\u001b[39m\u001b[33mapple\u001b[39m\u001b[33m\"\u001b[39m,\u001b[33m\"\u001b[39m\u001b[33mbanana\u001b[39m\u001b[33m\"\u001b[39m,\u001b[33m\"\u001b[39m\u001b[33mcherry\u001b[39m\u001b[33m\"\u001b[39m]\n\u001b[32m      2\u001b[39m y = [\u001b[33m\"\u001b[39m\u001b[33mmicrosoft\u001b[39m\u001b[33m\"\u001b[39m,\u001b[33m\"\u001b[39m\u001b[33mgoogle\u001b[39m\u001b[33m\"\u001b[39m,\u001b[33m\"\u001b[39m\u001b[33mapple\u001b[39m\u001b[33m\"\u001b[39m]\n\u001b[32m----> \u001b[39m\u001b[32m3\u001b[39m \u001b[38;5;28mprint\u001b[39m(\u001b[43mx\u001b[49m\u001b[43m.\u001b[49m\u001b[43mdifference\u001b[49m(y))\n",
      "\u001b[31mAttributeError\u001b[39m: 'list' object has no attribute 'difference'"
     ]
    }
   ],
   "source": [
    "x = [\"apple\",\"banana\",\"cherry\"]\n",
    "y = [\"microsoft\",\"google\",\"apple\"]\n"
   ]
  },
  {
   "cell_type": "markdown",
   "id": "961d7f94",
   "metadata": {},
   "source": [
    "* Error : Syntactical error\n",
    "* bugs : logical error in code or program\n",
    "* exception : abnormal conditions(termination of program occur at runtime)"
   ]
  },
  {
   "cell_type": "markdown",
   "id": "628d6e5d",
   "metadata": {},
   "source": [
    "> ### Exception Handling\n",
    "* `try` block : Risky code(where problem may arise)\n",
    "* `except` block : if exception then tell by run time environment, we handle exception, executed if exception inside try\n",
    "* `else` block : "
   ]
  },
  {
   "cell_type": "code",
   "execution_count": 3,
   "id": "ae9ec0dc",
   "metadata": {},
   "outputs": [
    {
     "name": "stdout",
     "output_type": "stream",
     "text": [
      "8\n",
      "10\n",
      "13\n",
      "20\n",
      "40\n",
      "zeroZivision error occured\n",
      "hullo indore\n"
     ]
    }
   ],
   "source": [
    "a,b,c = 40,5,0\n",
    "try:\n",
    "    for i in range(1,10):\n",
    "        c = a//b \n",
    "        print(c)\n",
    "        b = b-1\n",
    "    print(\"Rajkumar\")\n",
    "    print(\"Rajkumar\")\n",
    "    print(\"Rajkumar\")\n",
    "except ZeroDivisionError:\n",
    "    print(\"zeroZivision error occured\") \n",
    "print(\"hullo indore\")"
   ]
  },
  {
   "cell_type": "code",
   "execution_count": 18,
   "id": "ea6f133e",
   "metadata": {},
   "outputs": [
    {
     "name": "stdout",
     "output_type": "stream",
     "text": [
      "444488888888"
     ]
    }
   ],
   "source": [
    "# 444488888888\n",
    "\n",
    "a,b,c = 40,0,0\n",
    "i,j= 0,0\n",
    "while i<10:\n",
    "    try:\n",
    "        try:\n",
    "            for j in range(0,10):\n",
    "                if i == j:\n",
    "                    c = a/b\n",
    "                    print(c)\n",
    "                print(i,end=\"\")\n",
    "        except ZeroDivisionError:\n",
    "            i += 1\n",
    "        finally:\n",
    "            i +=1\n",
    "    except Exception:\n",
    "        i += 1\n",
    "    finally:\n",
    "        i += 1\n",
    "    i += 1"
   ]
  },
  {
   "cell_type": "markdown",
   "id": "eef291b3",
   "metadata": {},
   "source": [
    "> ### Assertion"
   ]
  },
  {
   "cell_type": "code",
   "execution_count": 48,
   "id": "2a36138f",
   "metadata": {},
   "outputs": [
    {
     "ename": "AssertionError",
     "evalue": "The square of 3 should be 4",
     "output_type": "error",
     "traceback": [
      "\u001b[31m---------------------------------------------------------------------------\u001b[39m",
      "\u001b[31mAssertionError\u001b[39m                            Traceback (most recent call last)",
      "\u001b[36mCell\u001b[39m\u001b[36m \u001b[39m\u001b[32mIn[48]\u001b[39m\u001b[32m, line 4\u001b[39m\n\u001b[32m      1\u001b[39m \u001b[38;5;28;01mdef\u001b[39;00m\u001b[38;5;250m \u001b[39m\u001b[34msquareIt\u001b[39m(x):\n\u001b[32m      2\u001b[39m     \u001b[38;5;28;01mreturn\u001b[39;00m x**\u001b[32m3\u001b[39m\n\u001b[32m----> \u001b[39m\u001b[32m4\u001b[39m \u001b[38;5;28;01massert\u001b[39;00m squareIt(\u001b[32m2\u001b[39m) == \u001b[32m4\u001b[39m, \u001b[33m\"\u001b[39m\u001b[33mThe square of 3 should be 4\u001b[39m\u001b[33m\"\u001b[39m\n\u001b[32m      5\u001b[39m \u001b[38;5;28;01massert\u001b[39;00m squareIt(\u001b[32m3\u001b[39m) == \u001b[32m9\u001b[39m, \u001b[33m\"\u001b[39m\u001b[33mThe square of 3 should be 9\u001b[39m\u001b[33m\"\u001b[39m\n\u001b[32m      6\u001b[39m \u001b[38;5;28;01massert\u001b[39;00m squareIt(\u001b[32m4\u001b[39m) == \u001b[32m16\u001b[39m, \u001b[33m\"\u001b[39m\u001b[33mThe square of 3 should be 16\u001b[39m\u001b[33m\"\u001b[39m\n",
      "\u001b[31mAssertionError\u001b[39m: The square of 3 should be 4"
     ]
    }
   ],
   "source": [
    "def squareIt(x):\n",
    "    return x**3\n",
    "\n",
    "assert squareIt(2) == 4, \"The square of 3 should be 4\"\n",
    "assert squareIt(3) == 9, \"The square of 3 should be 9\"\n",
    "assert squareIt(4) == 16, \"The square of 3 should be 16\"\n",
    "\n",
    "\n",
    "print(squareIt(2))\n",
    "print(squareIt(3))\n",
    "print(squareIt(4))\n",
    "print(squareIt(5))\n",
    "\n"
   ]
  },
  {
   "cell_type": "markdown",
   "id": "7d8d3577",
   "metadata": {},
   "source": [
    "* script Vs program\n",
    "* server side Vs client side script\n",
    "* \n",
    "browser name with there interpreter\n",
    "tag??\n",
    "* get\n",
    "* post\n",
    "* put \n",
    "* delete"
   ]
  }
 ],
 "metadata": {
  "kernelspec": {
   "display_name": "Python 3",
   "language": "python",
   "name": "python3"
  },
  "language_info": {
   "codemirror_mode": {
    "name": "ipython",
    "version": 3
   },
   "file_extension": ".py",
   "mimetype": "text/x-python",
   "name": "python",
   "nbconvert_exporter": "python",
   "pygments_lexer": "ipython3",
   "version": "3.13.2"
  }
 },
 "nbformat": 4,
 "nbformat_minor": 5
}
