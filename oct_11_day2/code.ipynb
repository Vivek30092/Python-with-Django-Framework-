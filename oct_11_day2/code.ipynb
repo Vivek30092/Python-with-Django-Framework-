{
 "cells": [
  {
   "cell_type": "code",
   "execution_count": 35,
   "id": "e23a4a18",
   "metadata": {},
   "outputs": [],
   "source": [
    "import random"
   ]
  },
  {
   "cell_type": "code",
   "execution_count": 45,
   "id": "0eb39be1",
   "metadata": {},
   "outputs": [
    {
     "name": "stdout",
     "output_type": "stream",
     "text": [
      "9\n",
      "4\n",
      "2\n",
      "6\n",
      "1\n",
      "6\n",
      "1\n",
      "2\n",
      "4\n",
      "3\n"
     ]
    }
   ],
   "source": [
    "import random\n",
    "for i in range(10):\n",
    "    print(random.randrange(10))"
   ]
  },
  {
   "cell_type": "markdown",
   "id": "1494fc9b",
   "metadata": {},
   "source": [
    "> randint() "
   ]
  },
  {
   "cell_type": "code",
   "execution_count": 42,
   "id": "bc443079",
   "metadata": {},
   "outputs": [
    {
     "name": "stdout",
     "output_type": "stream",
     "text": [
      "27\n",
      "15\n",
      "33\n",
      "12\n",
      "22\n",
      "20\n",
      "8\n",
      "40\n",
      "38\n",
      "32\n"
     ]
    }
   ],
   "source": [
    "for i in range(10):\n",
    "    print(random.randint(1,40))"
   ]
  },
  {
   "cell_type": "markdown",
   "id": "1a1414bc",
   "metadata": {},
   "source": [
    ">"
   ]
  },
  {
   "cell_type": "markdown",
   "id": "dc7990c0",
   "metadata": {},
   "source": [
    "> package\n",
    "* encapsulation mechanism to group related modules into a single unit.\n",
    "* folder for directory which represents collection of python modules.\n",
    "* any folder contains __inti__.py file,is considered as a python package.this file can be empty.\n",
    "* can contain sub package also."
   ]
  },
  {
   "cell_type": "markdown",
   "id": "5c9db28d",
   "metadata": {},
   "source": [
    "__Package__ : Package is a folder that contains modules or sub folders along with `__init__.py` file\n",
    "created to keep all files at one place and hide it from unauthorized user"
   ]
  },
  {
   "cell_type": "markdown",
   "id": "e6e2f81e",
   "metadata": {},
   "source": [
    "from com.module1 import f1\n",
    "from com.jpuniv.module.module"
   ]
  },
  {
   "cell_type": "code",
   "execution_count": null,
   "metadata": {},
   "outputs": [],
   "source": []
  }
 ],
 "metadata": {
  "kernelspec": {
   "display_name": "Python 3",
   "language": "python",
   "name": "python3"
  },
  "language_info": {
   "codemirror_mode": {
    "name": "ipython",
    "version": 3
   },
   "file_extension": ".py",
   "mimetype": "text/x-python",
   "name": "python",
   "nbconvert_exporter": "python",
   "pygments_lexer": "ipython3",
   "version": "3.13.2"
  }
 },
 "nbformat": 4,
 "nbformat_minor": 5
}
