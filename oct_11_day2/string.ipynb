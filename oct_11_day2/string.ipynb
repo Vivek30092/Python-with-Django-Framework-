{
 "cells": [
  {
   "cell_type": "code",
   "execution_count": 58,
   "id": "cc153673",
   "metadata": {},
   "outputs": [],
   "source": [
    "a = \"hello\"\n",
    "b = 'hi'\n",
    "c = \"\"\"indore is a \"cool\" city\n",
    "indore is a big city\"\"\"\n",
    "d = '''hello 'world'!!\n",
    "this is multi line string'''"
   ]
  },
  {
   "cell_type": "code",
   "execution_count": 59,
   "id": "9337cae1",
   "metadata": {},
   "outputs": [
    {
     "name": "stdout",
     "output_type": "stream",
     "text": [
      "hello\n",
      "hi\n",
      "indore is a \"cool\" city\n",
      "indore is a big city\n",
      "hello 'world'!!\n",
      "this is multi line string\n"
     ]
    }
   ],
   "source": [
    "print(a,b,c,d,sep=\"\\n\")"
   ]
  },
  {
   "cell_type": "code",
   "execution_count": 60,
   "id": "f17a88dd",
   "metadata": {},
   "outputs": [
    {
     "name": "stdout",
     "output_type": "stream",
     "text": [
      "h\n",
      "e\n",
      "l\n",
      "l\n",
      "o\n"
     ]
    }
   ],
   "source": [
    "for i in a:\n",
    "    print(i)"
   ]
  },
  {
   "cell_type": "code",
   "execution_count": 61,
   "id": "5f9c934b",
   "metadata": {},
   "outputs": [
    {
     "name": "stdout",
     "output_type": "stream",
     "text": [
      "ytic gib a si erodni\n",
      "ytic \"looc\" a si erodni\n"
     ]
    }
   ],
   "source": [
    "print(c[::-1])"
   ]
  },
  {
   "cell_type": "code",
   "execution_count": 62,
   "id": "5a335174",
   "metadata": {},
   "outputs": [
    {
     "name": "stdout",
     "output_type": "stream",
     "text": [
      "ytic gib a si erodni\n",
      "ytic \"looc\" a si erodni\n"
     ]
    }
   ],
   "source": [
    "print(c[100::-1])"
   ]
  },
  {
   "cell_type": "code",
   "execution_count": 63,
   "id": "a96669e4",
   "metadata": {},
   "outputs": [
    {
     "name": "stdout",
     "output_type": "stream",
     "text": [
      "ytic gib a si erodni\n",
      "ytic \"looc\" a si erodni\n"
     ]
    }
   ],
   "source": [
    "print(c[-1:-50:-1])"
   ]
  },
  {
   "cell_type": "code",
   "execution_count": 64,
   "id": "341ca08c",
   "metadata": {},
   "outputs": [
    {
     "name": "stdout",
     "output_type": "stream",
     "text": [
      "lstrip worked.\n",
      "rstrip worked\n",
      "strip worked\n"
     ]
    }
   ],
   "source": [
    "str1 = \"               lstrip worked.\"\n",
    "str2 = \"rstrip worked                \"\n",
    "str3 = \"         strip worked        \"\n",
    "print(str1.lstrip())\n",
    "print(str2.rstrip())\n",
    "print(str3.strip())"
   ]
  },
  {
   "cell_type": "code",
   "execution_count": 65,
   "id": "90b7d145",
   "metadata": {},
   "outputs": [
    {
     "name": "stdout",
     "output_type": "stream",
     "text": [
      "hi am  i am from \n"
     ]
    }
   ],
   "source": [
    "a = input(\"name : \")\n",
    "b = input(\"City : \")\n",
    "print(\"hi am {} i am from {}\".format(a,b))"
   ]
  },
  {
   "cell_type": "code",
   "execution_count": 66,
   "id": "96a4cba7",
   "metadata": {},
   "outputs": [
    {
     "name": "stdout",
     "output_type": "stream",
     "text": [
      "SAIT present at 0 positions.\n",
      "SAIT present at 11 positions.\n",
      "SAIT present at 33 positions.\n",
      "SAIT present at 49 positions.\n",
      "SAIT present at 54 positions.\n",
      "SAIT present at 59 positions.\n",
      "SAIT present at 64 positions.\n",
      "SAIT present at 69 positions.\n"
     ]
    }
   ],
   "source": [
    "# find index of all SAIT word in given string\n",
    "str_sait = \"SAIT LOREM SAIT MY NAME IS VIVEK SAIT I STUDY IN SAIT SAIT SAIT SAIT SAIT\"\n",
    "sub = \"SAIT\"\n",
    "i = str_sait.find(sub)\n",
    "if i == -1:\n",
    "    print(\"String is empty\")\n",
    "while i != -1:\n",
    "    print(f\"{sub} present at {i} positions.\")\n",
    "    i = str_sait.find(sub,i+len(sub),len(str_sait))"
   ]
  },
  {
   "cell_type": "code",
   "execution_count": 67,
   "id": "3f333388",
   "metadata": {},
   "outputs": [
    {
     "ename": "ValueError",
     "evalue": "not enough values to unpack (expected 2, got 0)",
     "output_type": "error",
     "traceback": [
      "\u001b[31m---------------------------------------------------------------------------\u001b[39m",
      "\u001b[31mValueError\u001b[39m                                Traceback (most recent call last)",
      "\u001b[36mCell\u001b[39m\u001b[36m \u001b[39m\u001b[32mIn[67]\u001b[39m\u001b[32m, line 2\u001b[39m\n\u001b[32m      1\u001b[39m name = \u001b[38;5;28minput\u001b[39m(\u001b[33m\"\u001b[39m\u001b[33menter name: \u001b[39m\u001b[33m\"\u001b[39m)\n\u001b[32m----> \u001b[39m\u001b[32m2\u001b[39m first,last = name.split()\n\u001b[32m      3\u001b[39m \u001b[38;5;28mprint\u001b[39m(\u001b[33mf\u001b[39m\u001b[33m\"\u001b[39m\u001b[33mwelcom Mr.\u001b[39m\u001b[38;5;132;01m{\u001b[39;00mlast\u001b[38;5;132;01m}\u001b[39;00m\u001b[33m\"\u001b[39m)\n",
      "\u001b[31mValueError\u001b[39m: not enough values to unpack (expected 2, got 0)"
     ]
    }
   ],
   "source": [
    "name = input(\"enter name: \")\n",
    "first,last = name.split()\n",
    "print(f\"welcom Mr.{last}\")"
   ]
  },
  {
   "cell_type": "markdown",
   "id": "d837e58b",
   "metadata": {},
   "source": [
    "## to check the type of char present in a string:\n",
    "* isalnum()\n",
    "* isalpha()\n",
    "* isdigit()\n",
    "* islower()\n",
    "* isupper()\n",
    "* istitle()\n",
    "* isspace()"
   ]
  },
  {
   "cell_type": "code",
   "execution_count": null,
   "id": "35adad13",
   "metadata": {},
   "outputs": [
    {
     "name": "stdout",
     "output_type": "stream",
     "text": [
      "ddddddddd\n"
     ]
    }
   ],
   "source": [
    "s = \"a5b6c3d9\"\n",
    "for i in s:\n",
    "    if i.isalpha():\n",
    "        alpha = i\n",
    "    elif i.isdigit():\n",
    "        num = int(i)\n",
    "print(alpha*num)    \n",
    "    \n",
    "        \n",
    "        "
   ]
  },
  {
   "cell_type": "code",
   "execution_count": null,
   "id": "f2ecfa9d",
   "metadata": {},
   "outputs": [
    {
     "name": "stdout",
     "output_type": "stream",
     "text": [
      " aaaaabbccccccccc\n"
     ]
    }
   ],
   "source": [
    "prev = \" \"\n",
    "cur = \" \"\n",
    "for i in s:\n",
    "    if i.isalpha():\n",
    "        cur = cur + i\n",
    "        prev = i\n",
    "    elif i.isdigit():\n",
    "        cur = cur+prev*(int(i)-1)\n",
    "        \n",
    "print(cur)"
   ]
  },
  {
   "cell_type": "code",
   "execution_count": null,
   "id": "9b5725aa",
   "metadata": {},
   "outputs": [
    {
     "name": "stdout",
     "output_type": "stream",
     "text": [
      " afbdcl\n"
     ]
    }
   ],
   "source": [
    "# chr(unicode)  == corresponding char\n",
    "# ord(char) == corresponding unicode\n",
    "cur1 = ' '\n",
    "st = 'a5b2c9'\n",
    "for i in st:\n",
    "    if i.isalpha():\n",
    "        cur1 = cur1 + i\n",
    "        prev = i\n",
    "    else:\n",
    "        cur1 = cur1+chr(ord(prev)+int(i))\n",
    "print(cur1)"
   ]
  },
  {
   "cell_type": "code",
   "execution_count": 76,
   "id": "452b4b5d",
   "metadata": {},
   "outputs": [
    {
     "name": "stdout",
     "output_type": "stream",
     "text": [
      " viek\n"
     ]
    }
   ],
   "source": [
    "\n",
    "str_raw = input(\"enter string:\")\n",
    "empty = ' '\n",
    "for i in str_raw:\n",
    "    if i not in empty:\n",
    "        empty = empty + i\n",
    "print(empty)\n",
    "    "
   ]
  },
  {
   "cell_type": "markdown",
   "id": "82838805",
   "metadata": {},
   "source": [
    "> # list\n",
    "* collection of hetro or homogeneous data objects\n",
    "* is __mutable__\n",
    "\n"
   ]
  },
  {
   "cell_type": "code",
   "execution_count": 84,
   "id": "4d4ffa3f",
   "metadata": {},
   "outputs": [
    {
     "name": "stdout",
     "output_type": "stream",
     "text": [
      "[12, 45, 132, 'vivek', 32.22]\n"
     ]
    }
   ],
   "source": [
    "lst1 = [12,45,132,\"vivek\",32.22]\n",
    "print(lst1)"
   ]
  },
  {
   "cell_type": "code",
   "execution_count": 85,
   "id": "4699ff09",
   "metadata": {},
   "outputs": [
    {
     "name": "stdout",
     "output_type": "stream",
     "text": [
      "[12, 45, 132, 'vivek', 32.22, [11, 33, 24, 52]]\n"
     ]
    }
   ],
   "source": [
    "lst2 = [11,33,24,52]\n",
    "lst1.append(lst2)           # added as a single list element at single index\n",
    "print(lst1)"
   ]
  },
  {
   "cell_type": "code",
   "execution_count": 86,
   "id": "1735e436",
   "metadata": {},
   "outputs": [
    {
     "name": "stdout",
     "output_type": "stream",
     "text": [
      "33\n"
     ]
    }
   ],
   "source": [
    "print(lst1[5][1])"
   ]
  },
  {
   "cell_type": "code",
   "execution_count": 87,
   "id": "8f91383e",
   "metadata": {},
   "outputs": [],
   "source": [
    "lst1.extend(lst2)       # give single index to each element"
   ]
  },
  {
   "cell_type": "code",
   "execution_count": 88,
   "id": "0c13f874",
   "metadata": {},
   "outputs": [
    {
     "name": "stdout",
     "output_type": "stream",
     "text": [
      "[12, 45, 132, 'vivek', 32.22, [11, 33, 24, 52], 11, 33, 24, 52]\n"
     ]
    }
   ],
   "source": [
    "print(lst1)"
   ]
  },
  {
   "cell_type": "code",
   "execution_count": null,
   "id": "4358667c",
   "metadata": {},
   "outputs": [],
   "source": [
    "cpy_lst = lst1.copy()           # returns a copy of the list"
   ]
  },
  {
   "cell_type": "code",
   "execution_count": 100,
   "id": "79661605",
   "metadata": {},
   "outputs": [
    {
     "name": "stdout",
     "output_type": "stream",
     "text": [
      "2\n"
     ]
    }
   ],
   "source": [
    "print(lst1.index(132))          # returns the index of the first element with the specified value"
   ]
  },
  {
   "cell_type": "code",
   "execution_count": 104,
   "id": "21bbebda",
   "metadata": {},
   "outputs": [
    {
     "name": "stdout",
     "output_type": "stream",
     "text": [
      "1\n"
     ]
    }
   ],
   "source": [
    "print(lst1.count(132))           # returns the number of elements with the specified value"
   ]
  },
  {
   "cell_type": "code",
   "execution_count": 110,
   "id": "a6044c9f",
   "metadata": {},
   "outputs": [
    {
     "name": "stdout",
     "output_type": "stream",
     "text": [
      "[12, 45, 132, 'vivek', 32.22, [11, 33, 24, 52], 11, 33, 24, 52]\n"
     ]
    }
   ],
   "source": [
    "print(cpy_lst)"
   ]
  },
  {
   "cell_type": "code",
   "execution_count": 111,
   "id": "0e7754f6",
   "metadata": {},
   "outputs": [],
   "source": [
    "cpy_lst.clear()"
   ]
  },
  {
   "cell_type": "code",
   "execution_count": 112,
   "id": "90c82ec7",
   "metadata": {},
   "outputs": [
    {
     "name": "stdout",
     "output_type": "stream",
     "text": [
      "[]\n"
     ]
    }
   ],
   "source": [
    "print(cpy_lst)"
   ]
  },
  {
   "cell_type": "code",
   "execution_count": 116,
   "id": "c6753347",
   "metadata": {},
   "outputs": [
    {
     "name": "stdout",
     "output_type": "stream",
     "text": [
      "[12, 45, 132, 'vivek', 32.22, [11, 33, 24, 52], 'new_element', 33, 24, 52]\n"
     ]
    }
   ],
   "source": [
    "print(lst1)\n",
    "lst1[6]='new_element'\n"
   ]
  },
  {
   "cell_type": "code",
   "execution_count": 126,
   "id": "0310b7af",
   "metadata": {},
   "outputs": [],
   "source": [
    "lst1[7:10] = [20,14,'new1']"
   ]
  },
  {
   "cell_type": "code",
   "execution_count": 127,
   "id": "e2c359ab",
   "metadata": {},
   "outputs": [
    {
     "name": "stdout",
     "output_type": "stream",
     "text": [
      "[12, 45, 'at third', 'at third', 'at third', 'at third', 'at third', 20, 14, 'new1', 32.22, [11, 33, 24, 52], 'new_element', 20, 14, 'new1']\n"
     ]
    }
   ],
   "source": [
    "print(lst1)"
   ]
  },
  {
   "cell_type": "code",
   "execution_count": 131,
   "id": "aff90de4",
   "metadata": {},
   "outputs": [
    {
     "name": "stdout",
     "output_type": "stream",
     "text": [
      "[0, 12, 'second', 0, 45, 'at third', 'at third', 'at third', 'at third', 'at third', 'at third', 20, 14, 'new1', 32.22, [11, 33, 24, 52], 'new_element', 20, 14, 'new1']\n"
     ]
    }
   ],
   "source": [
    "lst1.insert(2,\"second\")\n",
    "print(lst1)"
   ]
  },
  {
   "cell_type": "code",
   "execution_count": 138,
   "id": "db74dec7",
   "metadata": {},
   "outputs": [
    {
     "name": "stdout",
     "output_type": "stream",
     "text": [
      "[0, 12, 'second', 0, 45, 20, 14, 'new1', 32.22, [11, 33, 24, 52], 'new_element', 20, 14, 'new1']\n"
     ]
    }
   ],
   "source": [
    "# remove element from list\n",
    "for i in lst1:\n",
    "    if i == \"at third\":\n",
    "        lst1.remove(i)\n",
    "        \n",
    "        \n",
    "print(lst1)"
   ]
  },
  {
   "cell_type": "code",
   "execution_count": 172,
   "id": "10c7170e",
   "metadata": {},
   "outputs": [
    {
     "name": "stdout",
     "output_type": "stream",
     "text": [
      "[12, 'second', 45, 14, 'new1', 32.22, [11, 33, 24, 52], 'new_element', 20, 14]\n"
     ]
    }
   ],
   "source": [
    "print(lst1)"
   ]
  },
  {
   "cell_type": "code",
   "execution_count": 174,
   "id": "18574251",
   "metadata": {},
   "outputs": [
    {
     "name": "stdout",
     "output_type": "stream",
     "text": [
      "None\n"
     ]
    }
   ],
   "source": [
    "lst1_rvrsd = lst1.reverse()\n",
    "print(lst1_rvrsd)"
   ]
  },
  {
   "cell_type": "code",
   "execution_count": 171,
   "id": "7a3bd4d5",
   "metadata": {},
   "outputs": [],
   "source": [
    "lst1.remove(20)   # removes the first item with the specified value"
   ]
  },
  {
   "cell_type": "code",
   "execution_count": 140,
   "id": "74abe88d",
   "metadata": {},
   "outputs": [
    {
     "data": {
      "text/plain": [
       "'new1'"
      ]
     },
     "execution_count": 140,
     "metadata": {},
     "output_type": "execute_result"
    }
   ],
   "source": [
    "# remove the last item using `pop()`\n",
    "lst1.pop()"
   ]
  },
  {
   "cell_type": "code",
   "execution_count": null,
   "id": "8ef6acad",
   "metadata": {},
   "outputs": [],
   "source": [
    "# remove element from specific element\n",
    "del lst1[0]\n"
   ]
  },
  {
   "cell_type": "code",
   "execution_count": 145,
   "id": "2a598cb8",
   "metadata": {},
   "outputs": [],
   "source": [
    "# delete complete list\n",
    "del lst2"
   ]
  },
  {
   "cell_type": "markdown",
   "id": "54df06ee",
   "metadata": {},
   "source": [
    "> list comprehension"
   ]
  },
  {
   "cell_type": "markdown",
   "id": "ef418f0d",
   "metadata": {},
   "source": [
    "syntex for list comprehension<br>\n",
    "newlist = [expression for item in iterable if condition == True]"
   ]
  },
  {
   "cell_type": "code",
   "execution_count": 147,
   "id": "09fce35b",
   "metadata": {},
   "outputs": [
    {
     "name": "stdout",
     "output_type": "stream",
     "text": [
      "['apple', 'banana', 'mango']\n"
     ]
    }
   ],
   "source": [
    "fruits = [\"apple\", \"banana\", \"cherry\", \"kiwi\", \"mango\"]\n",
    "# newlist = []\n",
    "\n",
    "# for x in fruits:\n",
    "#     if \"a\" in x:\n",
    "#         newlist.append(x)\n",
    "\n",
    "newlist = [x for x in fruits if \"a\" in x]\n",
    "\n",
    "print(newlist)"
   ]
  },
  {
   "cell_type": "code",
   "execution_count": 148,
   "id": "7fa55af5",
   "metadata": {},
   "outputs": [
    {
     "name": "stdout",
     "output_type": "stream",
     "text": [
      "['banana', 'cherry', 'kiwi', 'mango']\n"
     ]
    }
   ],
   "source": [
    "print([x for x in fruits if x != \"apple\"])"
   ]
  },
  {
   "cell_type": "code",
   "execution_count": 149,
   "id": "6536d2c8",
   "metadata": {},
   "outputs": [
    {
     "name": "stdout",
     "output_type": "stream",
     "text": [
      "['apple', 'banana', 'cherry', 'kiwi', 'mango']\n"
     ]
    }
   ],
   "source": [
    "# without condition \n",
    "print([x for x in fruits])"
   ]
  },
  {
   "cell_type": "code",
   "execution_count": 153,
   "id": "c62cc997",
   "metadata": {},
   "outputs": [
    {
     "name": "stdout",
     "output_type": "stream",
     "text": [
      "[6, 7, 8, 9]\n"
     ]
    }
   ],
   "source": [
    "print([x for x in range(10) if x > 5])"
   ]
  },
  {
   "cell_type": "code",
   "execution_count": 151,
   "id": "6143a582",
   "metadata": {},
   "outputs": [
    {
     "name": "stdout",
     "output_type": "stream",
     "text": [
      "['APPLE', 'BANANA', 'CHERRY', 'KIWI', 'MANGO']\n"
     ]
    }
   ],
   "source": [
    "print([x.upper() for x in fruits])"
   ]
  },
  {
   "cell_type": "code",
   "execution_count": 150,
   "id": "df658da7",
   "metadata": {},
   "outputs": [
    {
     "name": "stdout",
     "output_type": "stream",
     "text": [
      "['hello', 'hello', 'hello', 'hello', 'hello']\n"
     ]
    }
   ],
   "source": [
    "print([\"hello\" for x in fruits])"
   ]
  },
  {
   "cell_type": "code",
   "execution_count": 157,
   "id": "a6b7959a",
   "metadata": {},
   "outputs": [
    {
     "name": "stdout",
     "output_type": "stream",
     "text": [
      "['apple', 'orange', 'cherry', 'kiwi', 'mango']\n"
     ]
    }
   ],
   "source": [
    "print([x if x != \"banana\" else \"orange\" for x in fruits])"
   ]
  },
  {
   "cell_type": "code",
   "execution_count": 175,
   "id": "711ff86d",
   "metadata": {},
   "outputs": [
    {
     "name": "stdout",
     "output_type": "stream",
     "text": [
      "None\n",
      "None\n"
     ]
    }
   ],
   "source": [
    "print(fruits.sort(reverse=True))\n",
    "# sort is a case sensitive method\n",
    "\n",
    "#for case insensitive \n",
    "print(fruits.sort(key=str.lower))\n"
   ]
  },
  {
   "cell_type": "code",
   "execution_count": 165,
   "id": "dc456c16",
   "metadata": {},
   "outputs": [
    {
     "name": "stdout",
     "output_type": "stream",
     "text": [
      "[38, 32, 32, 90, 98, 100]\n"
     ]
    }
   ],
   "source": [
    "# customized sort function\n",
    "def myfunc(n):\n",
    "    return abs(n-50)\n",
    "\n",
    "thislist= [100,38,32,98,32,90]\n",
    "thislist.sort(key=myfunc)   # using [key = function argument]\n",
    "print(thislist)"
   ]
  },
  {
   "cell_type": "code",
   "execution_count": 178,
   "id": "62a593b4",
   "metadata": {},
   "outputs": [
    {
     "name": "stdout",
     "output_type": "stream",
     "text": [
      "[[1, 2], [3, 4], [5, 6]]\n"
     ]
    }
   ],
   "source": [
    "a = [[3,4],[1,2],[5,6]]\n",
    "a.sort(key=lambda x: x[0])\n",
    "print(a)"
   ]
  },
  {
   "cell_type": "markdown",
   "id": "a7c136b9",
   "metadata": {},
   "source": [
    "> # Queue\n"
   ]
  },
  {
   "cell_type": "code",
   "execution_count": 180,
   "id": "345323df",
   "metadata": {},
   "outputs": [],
   "source": [
    "from collections import deque"
   ]
  },
  {
   "cell_type": "code",
   "execution_count": 182,
   "id": "8e5cd69f",
   "metadata": {},
   "outputs": [],
   "source": [
    "queue = deque([\"Indroe\",\"Vivek\",\"today\"])"
   ]
  },
  {
   "cell_type": "code",
   "execution_count": 183,
   "id": "521e0442",
   "metadata": {},
   "outputs": [],
   "source": [
    "queue.append(\"Ram\")\n",
    "queue.append(\"shyam\")"
   ]
  },
  {
   "cell_type": "code",
   "execution_count": 184,
   "id": "f0186c29",
   "metadata": {},
   "outputs": [
    {
     "data": {
      "text/plain": [
       "'Indroe'"
      ]
     },
     "execution_count": 184,
     "metadata": {},
     "output_type": "execute_result"
    }
   ],
   "source": [
    "queue.popleft()  # first to arrive now leaves"
   ]
  },
  {
   "cell_type": "code",
   "execution_count": 188,
   "id": "871cd354",
   "metadata": {},
   "outputs": [
    {
     "name": "stdout",
     "output_type": "stream",
     "text": [
      "[0, 1, 4, 9, 16, 25, 36, 49, 64, 81]\n"
     ]
    }
   ],
   "source": [
    "x = [ ]\n",
    "for i in range(10):\n",
    "    x.append(i**2)\n",
    "    \n",
    "print(x)"
   ]
  },
  {
   "cell_type": "code",
   "execution_count": 191,
   "id": "39c7bc74",
   "metadata": {},
   "outputs": [
    {
     "name": "stdout",
     "output_type": "stream",
     "text": [
      "[0, 1, 4, 9, 16, 25, 36, 49, 64, 81]\n"
     ]
    }
   ],
   "source": [
    "print(list((map(lambda x : x**2,range(10)))))"
   ]
  },
  {
   "cell_type": "code",
   "execution_count": 197,
   "id": "dd872ea7",
   "metadata": {},
   "outputs": [],
   "source": [
    "tup = (2,54,62,1,36,53,1,5,6,21)"
   ]
  },
  {
   "cell_type": "code",
   "execution_count": 198,
   "id": "3a4eeec0",
   "metadata": {},
   "outputs": [
    {
     "name": "stdout",
     "output_type": "stream",
     "text": [
      "(2, 54, 62, 1, 36, 53, 1, 5, 6, 21)\n"
     ]
    }
   ],
   "source": [
    "print(tup)"
   ]
  },
  {
   "cell_type": "code",
   "execution_count": 200,
   "id": "045a45ef",
   "metadata": {},
   "outputs": [
    {
     "name": "stdout",
     "output_type": "stream",
     "text": [
      "10\n",
      "62\n",
      "1\n",
      "241\n",
      "[1, 1, 2, 5, 6, 21, 36, 53, 54, 62]\n"
     ]
    }
   ],
   "source": [
    "print(len(tup))\n",
    "print(max(tup))\n",
    "print(min(tup))\n",
    "print(sum(tup))\n",
    "print(sorted(tup))"
   ]
  },
  {
   "cell_type": "code",
   "execution_count": 209,
   "id": "61405a17",
   "metadata": {},
   "outputs": [
    {
     "name": "stdout",
     "output_type": "stream",
     "text": [
      "vivek-kumar-choudhary\n"
     ]
    }
   ],
   "source": [
    "t = (\"vivek\",\"kumar\",\"choudhary\")\n",
    "s = '-'.join(t)\n",
    "print(s)"
   ]
  },
  {
   "cell_type": "code",
   "execution_count": null,
   "id": "dd8c47af",
   "metadata": {},
   "outputs": [
    {
     "name": "stdout",
     "output_type": "stream",
     "text": [
      "22\n"
     ]
    }
   ],
   "source": [
    "# second largest element of tuple\n",
    "tup1 = (45,22,5,22,11)\n",
    "firstLargest = max(tup1)\n",
    "r = tup1[0]\n",
    "for k in tup1:\n",
    "    if r < k and k!=firstLargest:\n",
    "        r = k\n",
    "    elif r == firstLargest:\n",
    "        r =  k\n",
    "print(r)\n",
    "\n"
   ]
  },
  {
   "cell_type": "code",
   "execution_count": 245,
   "id": "eb059916",
   "metadata": {},
   "outputs": [
    {
     "name": "stdout",
     "output_type": "stream",
     "text": [
      "1 prime\n",
      "5 prime\n",
      "43 prime\n",
      "19 prime\n",
      "17 prime\n",
      "1 prime\n"
     ]
    }
   ],
   "source": [
    "# code to find prime number in list\n",
    "prime_list = [1,4,5,6,2,43,21,19,17,8,92,1,2]\n",
    "for t in prime_list:\n",
    "    if t%2 != 0 and t%3 != 0:\n",
    "        print(f\"{t} prime\")"
   ]
  },
  {
   "cell_type": "markdown",
   "id": "705e28c7",
   "metadata": {},
   "source": [
    ">> # SET\n",
    "* unordered collection of unique items\n",
    "* not ordered\n",
    "* slicing is not possible due to not preserved insertion order\n"
   ]
  },
  {
   "cell_type": "code",
   "execution_count": null,
   "id": "b0fbed16",
   "metadata": {},
   "outputs": [],
   "source": []
  },
  {
   "cell_type": "markdown",
   "id": "536685e3",
   "metadata": {},
   "source": [
    ">> # dictionary"
   ]
  }
 ],
 "metadata": {
  "kernelspec": {
   "display_name": "Python 3",
   "language": "python",
   "name": "python3"
  },
  "language_info": {
   "codemirror_mode": {
    "name": "ipython",
    "version": 3
   },
   "file_extension": ".py",
   "mimetype": "text/x-python",
   "name": "python",
   "nbconvert_exporter": "python",
   "pygments_lexer": "ipython3",
   "version": "3.13.2"
  }
 },
 "nbformat": 4,
 "nbformat_minor": 5
}
