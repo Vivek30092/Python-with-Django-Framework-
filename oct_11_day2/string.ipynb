{
 "cells": [
  {
   "cell_type": "code",
   "execution_count": 26,
   "id": "cc153673",
   "metadata": {},
   "outputs": [],
   "source": [
    "a = \"hello\"\n",
    "b = 'hi'\n",
    "c = \"\"\"indore is a \"cool\" city\n",
    "indore is a big city\"\"\"\n",
    "d = '''hello 'world'!!\n",
    "this is multi line string'''"
   ]
  },
  {
   "cell_type": "code",
   "execution_count": 27,
   "id": "9337cae1",
   "metadata": {},
   "outputs": [
    {
     "name": "stdout",
     "output_type": "stream",
     "text": [
      "hello\n",
      "hi\n",
      "indore is a \"cool\" city\n",
      "indore is a big city\n",
      "hello 'world'!!\n",
      "this is multi line string\n"
     ]
    }
   ],
   "source": [
    "print(a,b,c,d,sep=\"\\n\")"
   ]
  },
  {
   "cell_type": "code",
   "execution_count": 31,
   "id": "f17a88dd",
   "metadata": {},
   "outputs": [
    {
     "name": "stdout",
     "output_type": "stream",
     "text": [
      "h\n",
      "e\n",
      "l\n",
      "l\n",
      "o\n"
     ]
    }
   ],
   "source": [
    "for i in a:\n",
    "    print(i)"
   ]
  },
  {
   "cell_type": "code",
   "execution_count": 40,
   "id": "5f9c934b",
   "metadata": {},
   "outputs": [
    {
     "name": "stdout",
     "output_type": "stream",
     "text": [
      "ytic gib a si erodni\n",
      "ytic \"looc\" a si erodni\n"
     ]
    }
   ],
   "source": [
    "print(c[::-1])"
   ]
  },
  {
   "cell_type": "code",
   "execution_count": 44,
   "id": "5a335174",
   "metadata": {},
   "outputs": [
    {
     "name": "stdout",
     "output_type": "stream",
     "text": [
      "ytic gib a si erodni\n",
      "ytic \"looc\" a si erodni\n"
     ]
    }
   ],
   "source": [
    "print(c[100::-1])"
   ]
  },
  {
   "cell_type": "code",
   "execution_count": 50,
   "id": "a96669e4",
   "metadata": {},
   "outputs": [
    {
     "name": "stdout",
     "output_type": "stream",
     "text": [
      "ytic gib a si erodni\n",
      "ytic \"looc\" a si erodni\n"
     ]
    }
   ],
   "source": [
    "print(c[-1:-50:-1])"
   ]
  },
  {
   "cell_type": "code",
   "execution_count": null,
   "id": "341ca08c",
   "metadata": {},
   "outputs": [
    {
     "name": "stdout",
     "output_type": "stream",
     "text": [
      "lstrip worked.\n",
      "rstrip worked\n",
      "strip worked\n"
     ]
    }
   ],
   "source": [
    "str1 = \"               lstrip worked.\"\n",
    "str2 = \"rstrip worked                \"\n",
    "str3 = \"         strip worked        \"\n",
    "print(str1.lstrip())\n",
    "print(str2.rstrip())\n",
    "print(str3.strip())"
   ]
  },
  {
   "cell_type": "code",
   "execution_count": 59,
   "id": "90b7d145",
   "metadata": {},
   "outputs": [
    {
     "name": "stdout",
     "output_type": "stream",
     "text": [
      "hi am viv i am from ind\n"
     ]
    }
   ],
   "source": [
    "a = input(\"name : \")\n",
    "b = input(\"City : \")\n",
    "print(\"hi am {} i am from {}\".format(a,b))"
   ]
  },
  {
   "cell_type": "code",
   "execution_count": 72,
   "id": "96a4cba7",
   "metadata": {},
   "outputs": [
    {
     "name": "stdout",
     "output_type": "stream",
     "text": [
      "SAIT present at 0 positions.\n",
      "SAIT present at 11 positions.\n",
      "SAIT present at 33 positions.\n",
      "SAIT present at 49 positions.\n",
      "SAIT present at 54 positions.\n",
      "SAIT present at 59 positions.\n",
      "SAIT present at 64 positions.\n",
      "SAIT present at 69 positions.\n"
     ]
    }
   ],
   "source": [
    "# find index of all SAIT word in given string\n",
    "str_sait = \"SAIT LOREM SAIT MY NAME IS VIVEK SAIT I STUDY IN SAIT SAIT SAIT SAIT SAIT\"\n",
    "sub = \"SAIT\"\n",
    "i = str_sait.find(sub)\n",
    "if i == -1:\n",
    "    print(\"String is empty\")\n",
    "while i != -1:\n",
    "    print(f\"{sub} present at {i} positions.\")\n",
    "    i = str_sait.find(sub,i+len(sub),len(str_sait))"
   ]
  }
 ],
 "metadata": {
  "kernelspec": {
   "display_name": "Python 3",
   "language": "python",
   "name": "python3"
  },
  "language_info": {
   "codemirror_mode": {
    "name": "ipython",
    "version": 3
   },
   "file_extension": ".py",
   "mimetype": "text/x-python",
   "name": "python",
   "nbconvert_exporter": "python",
   "pygments_lexer": "ipython3",
   "version": "3.13.2"
  }
 },
 "nbformat": 4,
 "nbformat_minor": 5
}
