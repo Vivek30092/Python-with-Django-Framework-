{
 "cells": [
  {
   "cell_type": "code",
   "execution_count": 1,
   "id": "08ed1573",
   "metadata": {},
   "outputs": [],
   "source": [
    "import time"
   ]
  },
  {
   "cell_type": "code",
   "execution_count": 6,
   "id": "46f97f4a",
   "metadata": {},
   "outputs": [
    {
     "data": {
      "text/plain": [
       "1760156796.2532306"
      ]
     },
     "execution_count": 6,
     "metadata": {},
     "output_type": "execute_result"
    }
   ],
   "source": [
    "time.time()   # returns the current time as a float"
   ]
  },
  {
   "cell_type": "code",
   "execution_count": null,
   "id": "a2265911",
   "metadata": {},
   "outputs": [
    {
     "name": "stdout",
     "output_type": "stream",
     "text": [
      "hello world\n",
      "hi\n"
     ]
    }
   ],
   "source": [
    "print(\"hello world\")\n",
    "time.sleep(5)    # pause execution for a specified duration in seconds (can be float    )\n",
    "print(\"hi\")"
   ]
  },
  {
   "cell_type": "code",
   "execution_count": null,
   "id": "4f9cf0c1",
   "metadata": {},
   "outputs": [],
   "source": []
  }
 ],
 "metadata": {
  "kernelspec": {
   "display_name": "Python 3",
   "language": "python",
   "name": "python3"
  },
  "language_info": {
   "codemirror_mode": {
    "name": "ipython",
    "version": 3
   },
   "file_extension": ".py",
   "mimetype": "text/x-python",
   "name": "python",
   "nbconvert_exporter": "python",
   "pygments_lexer": "ipython3",
   "version": "3.13.2"
  }
 },
 "nbformat": 4,
 "nbformat_minor": 5
}
