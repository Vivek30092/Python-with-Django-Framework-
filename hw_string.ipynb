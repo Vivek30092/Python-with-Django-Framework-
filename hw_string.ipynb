{
 "cells": [
  {
   "cell_type": "markdown",
   "id": "0fcade14",
   "metadata": {},
   "source": [
    "># LIST"
   ]
  },
  {
   "cell_type": "markdown",
   "id": "354f9bfe",
   "metadata": {},
   "source": [
    "### 1. Count unique items in a list"
   ]
  },
  {
   "cell_type": "markdown",
   "id": "cc062a1a",
   "metadata": {},
   "source": [
    "### 2. List product excluding duplicates."
   ]
  },
  {
   "cell_type": "markdown",
   "id": "822b7608",
   "metadata": {},
   "source": [
    "### 3. Extract elements with frequency greater than k"
   ]
  },
  {
   "cell_type": "markdown",
   "id": "a7f6ea03",
   "metadata": {},
   "source": [
    "### 4. Test if List contains elements in range."
   ]
  },
  {
   "cell_type": "markdown",
   "id": "e9af8bc2",
   "metadata": {},
   "source": [
    "### 5. Check if list contains three consecutive common numbers."
   ]
  },
  {
   "cell_type": "markdown",
   "id": "4f000290",
   "metadata": {},
   "source": [
    "### 6. Find Strongest Neighbour"
   ]
  },
  {
   "cell_type": "markdown",
   "id": "1290acfd",
   "metadata": {},
   "source": [
    "### 7.Possible combinations from three digits."
   ]
  },
  {
   "cell_type": "markdown",
   "id": "1246e8ea",
   "metadata": {},
   "source": [
    "### 8. Find all combinations in list with given condition."
   ]
  },
  {
   "cell_type": "markdown",
   "id": "4b2e54de",
   "metadata": {},
   "source": [
    "### 9. Get all unique combinations of two list"
   ]
  },
  {
   "cell_type": "markdown",
   "id": "3c36a4eb",
   "metadata": {},
   "source": [
    "### 10. Remove all occurrences of an element from a list "
   ]
  },
  {
   "cell_type": "markdown",
   "id": "1ea8d0e4",
   "metadata": {},
   "source": [
    "### 11. Remove consecutive K element records."
   ]
  },
  {
   "cell_type": "markdown",
   "id": "1a12720b",
   "metadata": {},
   "source": [
    "### 12. Replace index elements with elements in other list"
   ]
  },
  {
   "cell_type": "markdown",
   "id": "38bafc33",
   "metadata": {},
   "source": [
    "### 13. Retain records with N occurrences of K."
   ]
  },
  {
   "cell_type": "markdown",
   "id": "1795c3ff",
   "metadata": {},
   "source": [
    "### 14. Sort list according to column using lambda "
   ]
  },
  {
   "cell_type": "markdown",
   "id": "cc28fcd3",
   "metadata": {},
   "source": [
    "### 15. Create list of numbers with given range"
   ]
  },
  {
   "cell_type": "markdown",
   "id": "c014ed26",
   "metadata": {},
   "source": [
    "### 16. Check if a given object is a list or Not"
   ]
  },
  {
   "cell_type": "markdown",
   "id": "b1ef83d2",
   "metadata": {},
   "source": [
    "### 17. Break a list into chunks of size N"
   ]
  },
  {
   "cell_type": "markdown",
   "id": "3856702d",
   "metadata": {},
   "source": [
    "### 18. Get last N elements from given list"
   ]
  },
  {
   "cell_type": "markdown",
   "id": "1c057ed1",
   "metadata": {},
   "source": [
    "### 19. Get all unique combinations of two lists"
   ]
  },
  {
   "cell_type": "markdown",
   "id": "8ed876b8",
   "metadata": {},
   "source": [
    "># STRING"
   ]
  },
  {
   "cell_type": "markdown",
   "id": "1ff4cc8f",
   "metadata": {},
   "source": [
    "### Write a Python program to reverse a string."
   ]
  },
  {
   "cell_type": "markdown",
   "id": "f8688482",
   "metadata": {},
   "source": [
    "### Write a Python program to check if a string is a palindrome."
   ]
  },
  {
   "cell_type": "markdown",
   "id": "f1fff55a",
   "metadata": {},
   "source": [
    "### Write a Python program to count the number of vowels in a string."
   ]
  },
  {
   "cell_type": "markdown",
   "id": "9883e554",
   "metadata": {},
   "source": [
    "### Write a Python program to find the most frequent character in a string."
   ]
  },
  {
   "cell_type": "markdown",
   "id": "a4b67c4f",
   "metadata": {},
   "source": [
    "### Write a Python program to remove all duplicates from a string and return the result."
   ]
  },
  {
   "cell_type": "markdown",
   "id": "7f95b7d6",
   "metadata": {},
   "source": [
    "### Write a Python program to check if a string contains only digits."
   ]
  },
  {
   "cell_type": "markdown",
   "id": "b63f1d95",
   "metadata": {},
   "source": [
    "### Write a Python program to count the occurrences of each word in a sentence."
   ]
  },
  {
   "cell_type": "markdown",
   "id": "ecc635f0",
   "metadata": {},
   "source": [
    "### Write a Python program to capitalize the first letter of each word in a sentence."
   ]
  },
  {
   "cell_type": "markdown",
   "id": "b9d6711a",
   "metadata": {},
   "source": [
    "### Write a Python program to find the longest word in a sentence."
   ]
  },
  {
   "cell_type": "markdown",
   "id": "6eabd067",
   "metadata": {},
   "source": [
    "### Write a Python program to check if two strings are anagrams."
   ]
  },
  {
   "cell_type": "markdown",
   "id": "a7e0bba6",
   "metadata": {},
   "source": [
    "### Write a Python program to count the number of occurrences of a specific substring in a string."
   ]
  },
  {
   "cell_type": "markdown",
   "id": "df20886b",
   "metadata": {},
   "source": [
    "### Write a Python program to find the index of the first occurrence of a substring in a string."
   ]
  },
  {
   "cell_type": "markdown",
   "id": "6cf0d9de",
   "metadata": {},
   "source": [
    "### Write a Python program to replace all occurrences of a substring with another substring."
   ]
  },
  {
   "cell_type": "markdown",
   "id": "bb2a91d8",
   "metadata": {},
   "source": [
    "### Write a Python program to find the length of the last word in a sentence."
   ]
  },
  {
   "cell_type": "markdown",
   "id": "221fb7cf",
   "metadata": {},
   "source": [
    "### Write a Python program to reverse the order of words in a sentence."
   ]
  },
  {
   "cell_type": "markdown",
   "id": "331df3cb",
   "metadata": {},
   "source": [
    "### Write a Python program to check if a string is a valid email address."
   ]
  },
  {
   "cell_type": "markdown",
   "id": "15d64d0c",
   "metadata": {},
   "source": [
    "### Write a Python program to find the first non-repeated character in a string."
   ]
  },
  {
   "cell_type": "markdown",
   "id": "12c25059",
   "metadata": {},
   "source": [
    "### Write a Python program to remove all leading and trailing whitespaces from a string."
   ]
  },
  {
   "cell_type": "markdown",
   "id": "9300c07c",
   "metadata": {},
   "source": [
    "### Write a Python program to find the common characters between two strings."
   ]
  },
  {
   "cell_type": "markdown",
   "id": "becc47eb",
   "metadata": {},
   "source": [
    "### Write a Python program to find the second most frequent character in a string."
   ]
  },
  {
   "cell_type": "markdown",
   "id": "b194154c",
   "metadata": {},
   "source": [
    "### Write a Python program to check if a string contains only unique characters."
   ]
  },
  {
   "cell_type": "markdown",
   "id": "07dbff3b",
   "metadata": {},
   "source": [
    "### Write a Python program to find the longest common prefix among a list of strings."
   ]
  }
 ],
 "metadata": {
  "kernelspec": {
   "display_name": "Python 3",
   "language": "python",
   "name": "python3"
  },
  "language_info": {
   "codemirror_mode": {
    "name": "ipython",
    "version": 3
   },
   "file_extension": ".py",
   "mimetype": "text/x-python",
   "name": "python",
   "nbconvert_exporter": "python",
   "pygments_lexer": "ipython3",
   "version": "3.13.2"
  }
 },
 "nbformat": 4,
 "nbformat_minor": 5
}
