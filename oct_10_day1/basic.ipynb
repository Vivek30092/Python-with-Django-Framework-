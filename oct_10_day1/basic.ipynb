{
 "cells": [
  {
   "cell_type": "markdown",
   "id": "7a96d487",
   "metadata": {},
   "source": [
    "bitwise operator"
   ]
  },
  {
   "cell_type": "code",
   "execution_count": 1,
   "id": "bd3610ed",
   "metadata": {},
   "outputs": [
    {
     "name": "stdout",
     "output_type": "stream",
     "text": [
      "2\n"
     ]
    }
   ],
   "source": [
    "a = 5\n",
    "b = 7\n",
    "print(a^b)"
   ]
  },
  {
   "cell_type": "code",
   "execution_count": null,
   "id": "4ccd42c0",
   "metadata": {},
   "outputs": [],
   "source": [
    "print"
   ]
  },
  {
   "cell_type": "markdown",
   "id": "c1a01366",
   "metadata": {},
   "source": [
    "* list (mutable)\n",
    "* set (immutable)\n",
    "* tuple (immutable)\n",
    "* dictionary ()"
   ]
  },
  {
   "cell_type": "markdown",
   "id": "6c8c3029",
   "metadata": {},
   "source": [
    "package : collection of module or sub modules"
   ]
  },
  {
   "cell_type": "markdown",
   "id": "7f72d61e",
   "metadata": {},
   "source": [
    "inheriting some properties or methods from other class in our class "
   ]
  },
  {
   "cell_type": "markdown",
   "id": "d1a2fc4c",
   "metadata": {},
   "source": []
  }
 ],
 "metadata": {
  "kernelspec": {
   "display_name": "Python 3",
   "language": "python",
   "name": "python3"
  },
  "language_info": {
   "codemirror_mode": {
    "name": "ipython",
    "version": 3
   },
   "file_extension": ".py",
   "mimetype": "text/x-python",
   "name": "python",
   "nbconvert_exporter": "python",
   "pygments_lexer": "ipython3",
   "version": "3.13.2"
  }
 },
 "nbformat": 4,
 "nbformat_minor": 5
}
